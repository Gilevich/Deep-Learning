{
  "nbformat": 4,
  "nbformat_minor": 0,
  "metadata": {
    "colab": {
      "name": "01-agent-atomy.ipynb",
      "provenance": [],
      "collapsed_sections": [],
      "authorship_tag": "ABX9TyOgVRaPee6N+HorWJJo3EIQ",
      "include_colab_link": true
    },
    "kernelspec": {
      "name": "python3",
      "display_name": "Python 3"
    }
  },
  "cells": [
    {
      "cell_type": "markdown",
      "metadata": {
        "id": "view-in-github",
        "colab_type": "text"
      },
      "source": [
        "<a href=\"https://colab.research.google.com/github/Gilevich/Deep-Learning/blob/master/01_agent_atomy.ipynb\" target=\"_parent\"><img src=\"https://colab.research.google.com/assets/colab-badge.svg\" alt=\"Open In Colab\"/></a>"
      ]
    },
    {
      "cell_type": "code",
      "metadata": {
        "id": "ymXqz2C93Mlf"
      },
      "source": [
        "import random\n",
        "\n",
        "class Environment:\n",
        "    def __init__(self):\n",
        "        self.steps_left = 20\n",
        "\n",
        "    def GetObservation(self):\n",
        "        return [0.0, 0.0, 0.0]\n",
        "\n",
        "    def GetAction(self):\n",
        "        return [0, 1]\n",
        "\n",
        "    def isDone(self):\n",
        "        return self.steps_left == 0\n",
        "\n",
        "    def action(self, action):\n",
        "        if self.isDone():\n",
        "            raise Exception(\"Game is over\")\n",
        "        self.steps_left -= 1\n",
        "        return random.random()\n",
        "\n",
        "\n",
        "class Agent:\n",
        "    def __init__(self):\n",
        "        self.TotalReward = 0.0\n",
        "\n",
        "    def step(self, env):\n",
        "        CurrentObs = env.GetObservation()\n",
        "        actions = env.GetAction()\n",
        "        reward = env.action(random.choice(actions))\n",
        "        self.TotalReward += reward\n",
        "\n",
        "\n",
        "if __name__ == \"__main__\":\n",
        "    env = Environment()\n",
        "    agent = Agent()\n",
        "\n",
        "    while not env.isDone():\n",
        "        agent.step(env)\n",
        "    print('Total reward: %.4f' % agent.TotalReward)\n"
      ],
      "execution_count": null,
      "outputs": []
    }
  ]
}